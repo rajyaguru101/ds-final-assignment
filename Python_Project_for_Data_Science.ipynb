# Final Project – Extracting and Visualizing Stock Data
# Python Project for Data Science – Coursera

# =========================================
# Import Libraries
# =========================================
import yfinance as yf
import pandas as pd
import plotly.graph_objects as go

# =========================================
# Q1: Extract Tesla Stock Data
# =========================================
tesla = yf.Ticker("TSLA")
tesla_data = tesla.history(period="max")
tesla_data.reset_index(inplace=True)
print("Tesla Stock Data:")
display(tesla_data.head())

# =========================================
# Q2: Extract Tesla Revenue Data
# =========================================
tesla_revenue = tesla.quarterly_financials.T
tesla_revenue = tesla_revenue[['Total Revenue']]
tesla_revenue.reset_index(inplace=True)
tesla_revenue.rename(columns={'index':'Date','Total Revenue':'Revenue'}, inplace=True)
print("Tesla Quarterly Revenue:")
display(tesla_revenue.head())

# =========================================
# Q3: Extract GameStop Stock Data
# =========================================
gme = yf.Ticker("GME")
gme_data = gme.history(period="max")
gme_data.reset_index(inplace=True)
print("GameStop Stock Data:")
display(gme_data.head())

# =========================================
# Q4: Extract GameStop Revenue Data
# =========================================
gme_revenue = gme.quarterly_financials.T
gme_revenue = gme_revenue[['Total Revenue']]
gme_revenue.reset_index(inplace=True)
gme_revenue.rename(columns={'index':'Date','Total Revenue':'Revenue'}, inplace=True)
print("GameStop Quarterly Revenue:")
display(gme_revenue.head())

# =========================================
# Q5: Tesla Dashboard
# =========================================
fig1 = go.Figure()
fig1.add_trace(go.Scatter(x=tesla_data['Date'], y=tesla_data['Close'], name="Tesla Stock Price"))
fig1.add_trace(go.Scatter(x=tesla_revenue['Date'], y=tesla_revenue['Revenue'], 
                          name="Tesla Revenue", yaxis="y2"))
fig1.update_layout(
    title="Tesla Stock Price vs Revenue",
    xaxis=dict(title="Date"),
    yaxis=dict(title="Stock Price"),
    yaxis2=dict(title="Revenue (Millions)", overlaying="y", side="right")
)
fig1.show()

# =========================================
# Q6: GameStop Dashboard
# =========================================
fig2 = go.Figure()
fig2.add_trace(go.Scatter(x=gme_data['Date'], y=gme_data['Close'], name="GameStop Stock Price"))
fig2.add_trace(go.Scatter(x=gme_revenue['Date'], y=gme_revenue['Revenue'], 
                          name="GameStop Revenue", yaxis="y2"))
fig2.update_layout(
    title="GameStop Stock Price vs Revenue",
    xaxis=dict(title="Date"),
    yaxis=dict(title="Stock Price"),
    yaxis2=dict(title="Revenue (Millions)", overlaying="y", side="right")
)
fig2.show()

# =========================================
# Q7: Share Notebook
# =========================================
print("Notebook completed! Please save and export this .ipynb file and submit with screenshots.")

